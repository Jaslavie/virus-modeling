{
 "cells": [
  {
   "cell_type": "markdown",
   "metadata": {},
   "source": [
    "# Modeling human behavior\n",
    "Vaccination and Hygiene are the most important [factors](https://www.youtube.com/watch?v=gxAaO2rsdIs) that influence the growth rate of infection. We will explore the following groups of behaviors (adapted from [this paper](https://arxiv.org/pdf/2101.07926)):\n",
    "- Daily interactions\n",
    "- Hygiene\n",
    "- Vaccination\n",
    "- Quarantine"
   ]
  },
  {
   "cell_type": "code",
   "execution_count": null,
   "metadata": {},
   "outputs": [],
   "source": [
    "# model vaccination decision based on previous experience\n",
    "def vaccination_decision(p_n, s, r, phi):\n",
    "    \"\"\" \n",
    "    Model vaccination decision based on previous experience.\n",
    "    parameters:\n",
    "    - p_n: proportion of population vaccinated in year n\n",
    "    - s: probability of vaccine success\n",
    "    - r: vaccine morbidity rate\n",
    "    - phi: fractional size of pandemic\n",
    "    return: the percentage of the population that vaccinates in the next time step.\n",
    "    \"\"\"\n",
    "    # input validation\n",
    "    if not all(0 <= x <= 1 for x in [p_n, s, r, phi]):\n",
    "        raise ValueError(\"Input values must be between 0 and 1.\")\n",
    "    s_pn = s * p_n # proportion of population immune to virus in year n\n",
    "    f = proportion_infected(phi, s_pn)\n",
    "\n",
    "    term1 = (f * (1 - p_n)) # non-vaccinated individuals who get sick\n",
    "    term2 = (1 - r) * s * p_n # vaccinated individuals who did not get sick\n",
    "    term3 = (1 - f) * (1 - r) * (1 - s) * p_n # vaccinated individuals who got sick (unsuccessful)\n",
    "    \n",
    "    p_next = term1 + term2 + term3\n",
    "    \n",
    "    return min(max(p_next, 0), 1) \n",
    "\n",
    "\n",
    "def proportion_infected(phi, s_pn):\n",
    "    \"\"\"\n",
    "    Model the proportion of susceptible individuals that get infected during a pandemic.\n",
    "\n",
    "    Parameters:\n",
    "    phi: fractional size of pandemic (0 < phi < 1)\n",
    "    s_pn: population of susceptible individuals (0 < s_pn < 1)\n",
    "    \"\"\"\n",
    "    # Check input validity\n",
    "    if not (0 < phi < 1) or not (0 < s_pn < 1):\n",
    "        raise ValueError(\"Input values must be between 0 and 1.\")\n",
    "\n",
    "    # model equation\n",
    "    try:\n",
    "        f = phi / (1 - s_pn)\n",
    "        return min(f, 1.0)\n",
    "    except ZeroDivisionError:\n",
    "        return 0 # if s_pn is 1, then no one gets infected"
   ]
  },
  {
   "cell_type": "markdown",
   "metadata": {},
   "source": [
    "### Run simulation\n",
    "The following sources were used:\n",
    "- The vaccination rate of NYC is around [50%](https://www.nyc.gov/site/doh/about/press/pr2020/flu-vaccinations-surge-this-season.page)\n",
    "- Vaccine success of Influenza B is [56.4%](https://www.cidrap.umn.edu/influenza-vaccines/flu-vaccine-estimated-be-21-effective-against-flu-spread-household-members)\n",
    "- CDC surveillance data shows that 8% of the population gets infected during a flu season"
   ]
  },
  {
   "cell_type": "code",
   "execution_count": null,
   "metadata": {},
   "outputs": [],
   "source": [
    "# run simulation\n",
    "p_n = .5 # initial vaccination rate\n",
    "s = .564 # probability of vaccine success \n",
    "r = .1 # vaccine morbidity rate\n",
    "phi = .08 # fractional size of pandemic\n",
    "\n",
    "print(vaccination_decision(p_n, s, r, phi))"
   ]
  }
 ],
 "metadata": {
  "language_info": {
   "name": "python"
  }
 },
 "nbformat": 4,
 "nbformat_minor": 2
}
